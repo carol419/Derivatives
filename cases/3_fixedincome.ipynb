{
  "cells": [
    {
      "cell_type": "markdown",
      "metadata": {
        "id": "waTVvw9OozKE"
      },
      "source": [
        "![image-3.png](https://github.com/cafawo/Derivatives/blob/main/figures/derivatives_header.png?raw=1)\n",
        "\n",
        "# Derivatives\n",
        "\n",
        "[**Prof. Dr. Fabian Woebbeking**](https://woebbeking.info/)</br>\n",
        "Assistant Professor of Financial Economics</br>"
      ]
    },
    {
      "cell_type": "markdown",
      "metadata": {
        "id": "jDxm6n8rozKP"
      },
      "source": [
        "## Case 3: Fixed Income"
      ]
    },
    {
      "cell_type": "markdown",
      "metadata": {
        "id": "zUhH6b0EozKS"
      },
      "source": [
        "### Part 1: Interest rates\n",
        "\n",
        "The following 3 zero bonds are given:\n",
        "\n",
        "| Maturity | Price | Redemption |\n",
        "|:--------:|:-----:|:----------:|\n",
        "|    1Y    | 95.24 |     100    |\n",
        "|    2Y    | 89.00 |     100    |\n",
        "|    3Y    | 81.63 |     100    |\n",
        "\n",
        "(Table generated with [TablesGenerator](https://www.tablesgenerator.com/markdown_tables))"
      ]
    },
    {
      "cell_type": "markdown",
      "metadata": {
        "id": "mn1vGEuOozKX"
      },
      "source": [
        "#### Task: Calculate spot and forward rates."
      ]
    },
    {
      "cell_type": "markdown",
      "metadata": {
        "id": "8tfLMaxiozKY"
      },
      "source": [
        "#### Task: Price a three year 10% bond. Calculate the YTM and explain the relationship of the spot rates and the YTM."
      ]
    },
    {
      "cell_type": "markdown",
      "metadata": {
        "id": "rqJxVXP2ozKa"
      },
      "source": [
        "#### Task: Solve analytically and calculate the par coupon rate for a three year bond."
      ]
    },
    {
      "cell_type": "markdown",
      "metadata": {
        "id": "Tsj9RgvUozKc"
      },
      "source": [
        "#### Task: Evaluate with the same curve, a three year floater against the one year rate (bond base). ... For the fans :)"
      ]
    },
    {
      "cell_type": "markdown",
      "metadata": {
        "id": "aakZywRfozKe"
      },
      "source": [
        "### Part 2: Asset-/ liability-swap"
      ]
    },
    {
      "cell_type": "markdown",
      "metadata": {
        "id": "R0cWf1QyozKg"
      },
      "source": [
        "#### Task: Calculate the level of the floating debt (liability swap).\n",
        "\n",
        "Power has issued a five year bond with a coupon of 2% and a price of 100.50. The five year IRS is quoted 2,00 – 2,05 against six month EURIBOR."
      ]
    },
    {
      "cell_type": "markdown",
      "metadata": {
        "id": "PMj1LXPBozKj"
      },
      "source": [
        "#### Task: Calculate the asset swap.\n",
        "\n",
        "The Investor has bought a five year AA Bond with a coupon of 3% for 101,00. The 5 Y IRS quotes 2,00 -2,05 against 6M Euribor."
      ]
    },
    {
      "cell_type": "markdown",
      "metadata": {
        "id": "Ov5etW0_ozKk"
      },
      "source": [
        "### Part 3: Single curve\n",
        "\n",
        "The following swap rates are given:\n",
        "\n",
        "| Maturity | 12M Euribor | Eonia |\n",
        "|:--------:|:-----------:|:-----:|\n",
        "|    1Y    |    4.00%    | 3.30% |\n",
        "|    2Y    |    5.00%    | 4.50% |\n",
        "|    3Y    |    6.00%    | 5.30% |\n",
        "\n",
        "(Tables generated with [TablesGenerator](https://www.tablesgenerator.com/markdown_tables))"
      ]
    },
    {
      "cell_type": "markdown",
      "metadata": {
        "id": "IkEGUezRozKl"
      },
      "source": [
        "#### Task: Bootstrap discount factors and spot rates using the single curve approach."
      ]
    },
    {
      "cell_type": "markdown",
      "metadata": {
        "id": "BnUOlC2HozKn"
      },
      "source": [
        "#### Task: Price a three year swap against the one year rate using the single curve approach."
      ]
    },
    {
      "cell_type": "markdown",
      "metadata": {
        "id": "XcqySo3tozKn"
      },
      "source": [
        "#### Task: Price the forward swap in one for two. Show that the result is correct and compare it to the zero rate in one for two using the single curve approach."
      ]
    },
    {
      "cell_type": "markdown",
      "metadata": {
        "id": "zW9EmutCozKo"
      },
      "source": [
        "#### Task: Mark to market a swap, 8% against 12M Euribor with a remaining maturity of 3 years and EUR 100mln notional."
      ]
    },
    {
      "cell_type": "markdown",
      "metadata": {
        "id": "k6dRppgeozKo"
      },
      "source": [
        "### Part 4: Multi curve\n",
        "\n",
        "Consider a three year swap against the one year rate using the multi curve approach. The following swap rates are given:\n",
        "\n",
        "| Maturity | 12M Euribor | Eonia |\n",
        "|:--------:|:-----------:|:-----:|\n",
        "|    1Y    |    4.00%    | 3.30% |\n",
        "|    2Y    |    5.00%    | 4.50% |\n",
        "|    3Y    |    6.00%    | 5.30% |\n",
        "\n",
        "(Tables generated with [TablesGenerator](https://www.tablesgenerator.com/markdown_tables))"
      ]
    },
    {
      "cell_type": "markdown",
      "metadata": {
        "id": "SPKzEM6eozKp"
      },
      "source": [
        "#### Task: Calculate the spot rates."
      ]
    },
    {
      "cell_type": "markdown",
      "metadata": {
        "id": "LZN5s2zeozKp"
      },
      "source": [
        "#### Task: Calculate the implied forward rates.\n",
        "\n",
        "(Hint: the one year spot rate for the swap cash flow is taken from the single curve approach.)\n"
      ]
    },
    {
      "cell_type": "code",
      "source": [
        "def swap_bootstrap(swap_rates):\n",
        "    discount_factors = []\n",
        "    for s in swap_rates:\n",
        "        # See Slide 61\n",
        "        DF_T = (1 - s * sum(discount_factors)) / (1 + s)\n",
        "        discount_factors.append(DF_T)\n",
        "        return [discount_factors]\n",
        "\n",
        "\n",
        "\n",
        "\"\"\"Calculate implied forward rates (multi curve approach)\n",
        "\"\"\"\n",
        "def multi_curve(swap_rates, eonia_rates):\n",
        "    # bootstrap discount factors from eonia rates\n",
        "    discount_factors = swap_bootstrap(eonia_rates)[0]\n",
        "    # setup\n",
        "    SDF = 0 # sum of discount factors\n",
        "    CD = 0  # discounted fixed leg until T\n",
        "    LD = 0  # discounted float leg until T-1\n",
        "\n",
        "    implied_forwards = []\n",
        "    for C_T, DF_T in zip(swap_rates, discount_factors):\n",
        "        SDF += DF_T  # add up discount factors\n",
        "        CD = C_T * SDF  # C_T is an annuity\n",
        "        L = (CD - LD) / DF_T  # calculate implied forward rate (see equation above)\n",
        "        implied_forwards.append(round(L,4))  # round and save L\n",
        "        LD += L * DF_T  # sum up discounted L (used in next iteration)\n",
        "\n",
        "    return implied_forwards\n",
        "\n",
        "print(f\"Implied forward rates: {multi_curve([0.04, 0.05, 0.06], [0.033, 0.045, 0.053])}\")"
      ],
      "metadata": {
        "id": "5M9Lj6yrVCD_",
        "outputId": "982ad379-4cae-41a7-e1df-9d1f2ed170ec",
        "colab": {
          "base_uri": "https://localhost:8080/"
        }
      },
      "execution_count": 2,
      "outputs": [
        {
          "output_type": "stream",
          "name": "stdout",
          "text": [
            "Implied forward rates: [0.04]\n"
          ]
        }
      ]
    },
    {
      "cell_type": "markdown",
      "metadata": {
        "id": "L92Sq6iAozKp"
      },
      "source": [
        "#### Task: Calculate the forward swap in one for two.\n"
      ]
    },
    {
      "cell_type": "markdown",
      "metadata": {
        "id": "wo2kP83_ozKq"
      },
      "source": [
        "### Part 5: Interest rate parity / FX forward"
      ]
    },
    {
      "cell_type": "markdown",
      "metadata": {
        "id": "SisPj6bQozKq"
      },
      "source": [
        "#### Task: Calculate the one year (365 days) FX forward using covered interest rate parity.\n",
        "* Spot = 1.3193\n",
        "* USD interest (IBOR) = 1.05310%\n",
        "* EUR interest (IBOR) = 1.4375%"
      ]
    },
    {
      "cell_type": "code",
      "source": [
        "# FX outright\n",
        "r_EUR = 1.43750 / 100\n",
        "r_USD = 1.05310 / 100\n",
        "EURUSD = 1.3193\n",
        "T_act = 365\n",
        "\n",
        "FX_Fwd = EURUSD * (1 + r_USD * T_act / 360)/(1 + r_EUR * T_act / 360)\n",
        "\n",
        "print(f\"EURUSD forward =  {FX_Fwd:.4f}\")\n",
        "print(f\"EURUSD swap  = {FX_Fwd - EURUSD:.4f}\")"
      ],
      "metadata": {
        "id": "7I2k4NJEcjqH",
        "outputId": "142cfb88-b826-45ec-ecc0-087112d96828",
        "colab": {
          "base_uri": "https://localhost:8080/"
        }
      },
      "execution_count": 1,
      "outputs": [
        {
          "output_type": "stream",
          "name": "stdout",
          "text": [
            "EURUSD forward =  1.3142\n",
            "EURUSD swap    = -0.0051\n"
          ]
        }
      ]
    },
    {
      "cell_type": "markdown",
      "metadata": {
        "id": "8AeYtOJrozKr"
      },
      "source": [
        "#### Task: Mark to market the following cross currency swap.\n",
        "\n",
        "The term structure of interest rates is flat at 6% in USD and 8% in AUD (continuous rates). The current exchange rate is 0.64 USD per AUD. You pay 7% in AUD and receive 3% in USD, with principals being USD 15mln and AUD 25mln. Payments are exchanged annually with 3 payments left (3 years to maturity)."
      ]
    },
    {
      "cell_type": "code",
      "source": [
        "import numpy as np\n",
        "\n",
        "# 参数设置\n",
        "r_usd = 0.06  # USD 利率 (continuous)\n",
        "r_aud = 0.08  # AUD 利率 (continuous)\n",
        "spot_fx = 0.64  # USD per 1 AUD\n",
        "\n",
        "notional_usd = 15_000_000\n",
        "notional_aud = 25_000_000\n",
        "\n",
        "usd_coupon = 0.03 * notional_usd\n",
        "aud_coupon = 0.07 * notional_aud\n",
        "\n",
        "years = [1, 2, 3]\n",
        "\n",
        "# 折现函数（连续复利）\n",
        "def discount(rate, t):\n",
        "    return np.exp(-rate * t)\n",
        "\n",
        "# 折现后的现金流现值\n",
        "pv_usd = sum(usd_coupon * discount(r_usd, t) for t in years) + notional_usd * discount(r_usd, 3)\n",
        "pv_aud = sum(aud_coupon * discount(r_aud, t) for t in years) + notional_aud * discount(r_aud, 3)\n",
        "\n",
        "# 将AUD现值换算为USD\n",
        "pv_aud_in_usd = pv_aud * spot_fx\n",
        "\n",
        "# 市值 = 收到的现值（USD） - 支付的现值（折算成USD）\n",
        "mtm = pv_usd - pv_aud_in_usd\n",
        "\n",
        "# 输出结果\n",
        "print(f\"Present value of USD leg:   {pv_usd:,.2f} USD\")\n",
        "print(f\"Present value of AUD leg:   {pv_aud_in_usd:,.2f} USD (converted)\")\n",
        "print(f\"Mark-to-market value:       {mtm:,.2f} USD\")\n"
      ],
      "metadata": {
        "id": "TYol7V8BesSe",
        "outputId": "b4d1f26c-7f7d-4a71-dc3e-83f17e9e5679",
        "colab": {
          "base_uri": "https://localhost:8080/"
        }
      },
      "execution_count": 3,
      "outputs": [
        {
          "output_type": "stream",
          "name": "stdout",
          "text": [
            "Present value of USD leg:   13,727,833.00 USD\n",
            "Present value of AUD leg:   15,455,360.33 USD (converted)\n",
            "Mark-to-market value:       -1,727,527.33 USD\n"
          ]
        }
      ]
    }
  ],
  "metadata": {
    "kernelspec": {
      "display_name": "Python 3 (ipykernel)",
      "language": "python",
      "name": "python3"
    },
    "language_info": {
      "codemirror_mode": {
        "name": "ipython",
        "version": 3
      },
      "file_extension": ".py",
      "mimetype": "text/x-python",
      "name": "python",
      "nbconvert_exporter": "python",
      "pygments_lexer": "ipython3",
      "version": "3.8.10"
    },
    "colab": {
      "provenance": []
    }
  },
  "nbformat": 4,
  "nbformat_minor": 0
}